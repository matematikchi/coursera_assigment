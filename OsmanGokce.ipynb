{
 "cells": [
  {
   "cell_type": "markdown",
   "id": "85a7dab1",
   "metadata": {},
   "source": [
    "# My Jupyter Notebook on IBM Watson Studio\n"
   ]
  },
  {
   "cell_type": "markdown",
   "id": "454d37d3",
   "metadata": {},
   "source": [
    "**Osman Gokce**\n",
    "Data Scientist "
   ]
  },
  {
   "cell_type": "markdown",
   "id": "a8782a4d",
   "metadata": {},
   "source": [
    "_I am interested in data science because it is the sexiest job in the world_"
   ]
  },
  {
   "cell_type": "markdown",
   "id": "8eaab4f8",
   "metadata": {},
   "source": [
    "### It is the basic python code or beginners"
   ]
  },
  {
   "cell_type": "code",
   "execution_count": null,
   "id": "09d7534b",
   "metadata": {},
   "outputs": [],
   "source": [
    "print(\"Hello coursera. Pls give me good marks\")"
   ]
  },
  {
   "cell_type": "markdown",
   "id": "01aa757d",
   "metadata": {},
   "source": [
    "> This line is the example of blockquote(1)\n",
    "\n",
    "[This line is the example of hyperlink(2)](https://www.coursera.com)\n",
    "\n",
    "1. First item\n",
    "2. second item\n",
    "⋅⋅* Sub items\n",
    "1. first sub item\n",
    "⋅⋅1. second sub item\n",
    "4. third sub item\n",
    "\n",
    "\n",
    "~~this is test line.~~\n",
    "\n",
    "\n"
   ]
  },
  {
   "cell_type": "code",
   "execution_count": null,
   "id": "f8957772",
   "metadata": {},
   "outputs": [],
   "source": []
  }
 ],
 "metadata": {
  "kernelspec": {
   "display_name": "Python 3 (ipykernel)",
   "language": "python",
   "name": "python3"
  },
  "language_info": {
   "codemirror_mode": {
    "name": "ipython",
    "version": 3
   },
   "file_extension": ".py",
   "mimetype": "text/x-python",
   "name": "python",
   "nbconvert_exporter": "python",
   "pygments_lexer": "ipython3",
   "version": "3.10.4"
  }
 },
 "nbformat": 4,
 "nbformat_minor": 5
}
